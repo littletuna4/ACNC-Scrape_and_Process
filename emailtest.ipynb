{
 "cells": [
  {
   "cell_type": "code",
   "execution_count": 1,
   "metadata": {},
   "outputs": [],
   "source": [
    "import win32com.client as win32\n",
    "import pandas as pd"
   ]
  },
  {
   "cell_type": "code",
   "execution_count": 30,
   "metadata": {},
   "outputs": [],
   "source": [
    "def send_email(HTML_CONTENT='<h1>This email has no content</h1>',\n",
    "               Recipient = 'seemsfishy04@gmail.com',\n",
    "               Subject = 'This email has no Subject',\n",
    "               CC = ''\n",
    "               )\n",
    "\n",
    "    outlook = win32.Dispatch(\"Outlook.Application\")\n",
    "\n",
    "    send_account = None\n",
    "    for account in outlook.Session.Accounts:\n",
    "        if account.DisplayName == 'adpcerqui@gmail.com':\n",
    "            send_account = account\n",
    "            break\n",
    "\n",
    "\n",
    "    email           = outlook.CreateItem(0)\n",
    "    email._oleobj_.Invoke(*(64209, 0, 8, 0, send_account))\n",
    "    email.To        = Recipient\n",
    "    email.CC        = CC \n",
    "    email.Subject   = Subject\n",
    "    email.HTMLBody  = HTML_CONTENT\n",
    "\n",
    "    email.Send"
   ]
  },
  {
   "cell_type": "code",
   "execution_count": 24,
   "metadata": {},
   "outputs": [
    {
     "name": "stdout",
     "output_type": "stream",
     "text": [
      "None\n"
     ]
    }
   ],
   "source": [
    "\n",
    "\n",
    "def write_email(Recip_name, Recipient_charity, FOC):\n",
    "    FOCETemplate = open('./FOCEmailtemplate.html').read()\n",
    "    STDTemplate  = open('./STDmailtemplate.html' ).read()\n",
    "\n",
    "    if FOC:\n",
    "        t = FOCETemplate\n",
    "    else:\n",
    "        t = STDTemplate\n",
    "\n",
    "    e = t.replace('[People]',Recip_name).replace('[Charity Name]')\n"
   ]
  },
  {
   "cell_type": "code",
   "execution_count": 32,
   "metadata": {},
   "outputs": [
    {
     "data": {
      "text/plain": [
       "['AddRef',\n",
       " 'Application',\n",
       " 'Class',\n",
       " 'Count',\n",
       " 'GetIDsOfNames',\n",
       " 'GetTypeInfo',\n",
       " 'GetTypeInfoCount',\n",
       " 'Invoke',\n",
       " 'Item',\n",
       " 'Parent',\n",
       " 'QueryInterface',\n",
       " 'Release',\n",
       " 'Session',\n",
       " '_ApplyTypes_',\n",
       " '_FlagAsMethod',\n",
       " '_LazyAddAttr_',\n",
       " '_NewEnum',\n",
       " '_Release_',\n",
       " '_UpdateWithITypeInfo_',\n",
       " '__AttrToID__',\n",
       " '__LazyMap__',\n",
       " '__bool__',\n",
       " '__call__',\n",
       " '__class__',\n",
       " '__delattr__',\n",
       " '__dict__',\n",
       " '__dir__',\n",
       " '__doc__',\n",
       " '__eq__',\n",
       " '__format__',\n",
       " '__ge__',\n",
       " '__getattr__',\n",
       " '__getattribute__',\n",
       " '__getitem__',\n",
       " '__gt__',\n",
       " '__hash__',\n",
       " '__init__',\n",
       " '__init_subclass__',\n",
       " '__int__',\n",
       " '__le__',\n",
       " '__len__',\n",
       " '__lt__',\n",
       " '__module__',\n",
       " '__ne__',\n",
       " '__new__',\n",
       " '__reduce__',\n",
       " '__reduce_ex__',\n",
       " '__repr__',\n",
       " '__setattr__',\n",
       " '__setitem__',\n",
       " '__sizeof__',\n",
       " '__str__',\n",
       " '__subclasshook__',\n",
       " '__weakref__',\n",
       " '_builtMethods_',\n",
       " '_dir_ole_',\n",
       " '_enum_',\n",
       " '_find_dispatch_type_',\n",
       " '_get_good_object_',\n",
       " '_get_good_single_object_',\n",
       " '_lazydata_',\n",
       " '_make_method_',\n",
       " '_mapCachedItems_',\n",
       " '_oleobj_',\n",
       " '_olerepr_',\n",
       " '_print_details_',\n",
       " '_proc_',\n",
       " '_unicode_to_string_',\n",
       " '_username_',\n",
       " '_wrap_dispatch_']"
      ]
     },
     "execution_count": 32,
     "metadata": {},
     "output_type": "execute_result"
    }
   ],
   "source": [
    "dir(send_account.Parent)"
   ]
  }
 ],
 "metadata": {
  "kernelspec": {
   "display_name": "Python 3.10.4 64-bit",
   "language": "python",
   "name": "python3"
  },
  "language_info": {
   "codemirror_mode": {
    "name": "ipython",
    "version": 3
   },
   "file_extension": ".py",
   "mimetype": "text/x-python",
   "name": "python",
   "nbconvert_exporter": "python",
   "pygments_lexer": "ipython3",
   "version": "3.10.4"
  },
  "orig_nbformat": 4,
  "vscode": {
   "interpreter": {
    "hash": "26de051ba29f2982a8de78e945f0abaf191376122a1563185a90213a26c5da77"
   }
  }
 },
 "nbformat": 4,
 "nbformat_minor": 2
}
