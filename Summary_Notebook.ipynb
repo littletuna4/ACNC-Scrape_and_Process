{
 "cells": [
  {
   "cell_type": "markdown",
   "metadata": {},
   "source": [
    "# Charity Scraper\n",
    "### The Plan:\n",
    "1. Scrape Each Charity's register_index URL from the main search page\n",
    "1. Open each charity and scrape characteristics\n",
    "1. Use generated charity_index to filter for websites with desired characteristics\n",
    "  * income\n",
    "  * reporting\n",
    "  * cause helped\n",
    "  * has website and charity_url"
   ]
  },
  {
   "cell_type": "code",
   "execution_count": 55,
   "metadata": {},
   "outputs": [],
   "source": [
    "# Initialisation and loadup\n",
    "from http import server\n",
    "import pandas as pd\n",
    "import os\n",
    "import time\n",
    "\n",
    "import selenium as sl\n",
    "from selenium import webdriver\n",
    "#driverpath = \"C:\\Program Files\\chromedriver.exe\"\n",
    "\n",
    "from selenium.webdriver.chrome.service import Service\n",
    "from webdriver_manager.chrome import ChromeDriverManager\n",
    "from selenium.webdriver.common.by import By\n",
    "from selenium.webdriver.support.ui import WebDriverWait \n",
    "from selenium.webdriver.support import expected_conditions as EC\n"
   ]
  },
  {
   "cell_type": "code",
   "execution_count": 120,
   "metadata": {},
   "outputs": [
    {
     "data": {
      "text/html": [
       "<div>\n",
       "<style scoped>\n",
       "    .dataframe tbody tr th:only-of-type {\n",
       "        vertical-align: middle;\n",
       "    }\n",
       "\n",
       "    .dataframe tbody tr th {\n",
       "        vertical-align: top;\n",
       "    }\n",
       "\n",
       "    .dataframe thead th {\n",
       "        text-align: right;\n",
       "    }\n",
       "</style>\n",
       "<table border=\"1\" class=\"dataframe\">\n",
       "  <thead>\n",
       "    <tr style=\"text-align: right;\">\n",
       "      <th></th>\n",
       "      <th>Index_Link</th>\n",
       "      <th>Legal_Name</th>\n",
       "      <th>Town/Suburb</th>\n",
       "      <th>State</th>\n",
       "      <th>Status</th>\n",
       "      <th>Size</th>\n",
       "      <th>ABN</th>\n",
       "      <th>Website</th>\n",
       "      <th>Revenue</th>\n",
       "      <th>Cause/s</th>\n",
       "    </tr>\n",
       "  </thead>\n",
       "  <tbody>\n",
       "  </tbody>\n",
       "</table>\n",
       "</div>"
      ],
      "text/plain": [
       "Empty DataFrame\n",
       "Columns: [Index_Link, Legal_Name, Town/Suburb, State, Status, Size, ABN, Website, Revenue, Cause/s]\n",
       "Index: []"
      ]
     },
     "execution_count": 120,
     "metadata": {},
     "output_type": "execute_result"
    }
   ],
   "source": [
    "# initialise the pandas dataframe\n",
    "columns = [\"Index_Link\", \"Legal_Name\", \"Town/Suburb\",\"State\", \"Status\", \"Size\",\"ABN\",\"Website\",\"Revenue\",\"Cause/s\"]\n",
    "df=pd.DataFrame(columns=columns)\n",
    "df"
   ]
  },
  {
   "cell_type": "code",
   "execution_count": 107,
   "metadata": {},
   "outputs": [],
   "source": [
    "# initialise driver\n",
    "# Assemble the pit crew and start driving\n",
    "\n",
    "driver = webdriver.Chrome(service=Service(ChromeDriverManager().install()))\n",
    "pfurl = \"https://www.acnc.gov.au/charity/charities?items_per_page=100&f[]=size%3ASmall\" #pre filtered url for small businesses and to show 100 results - Page 1\n",
    "driver.get(pfurl)\n",
    "driver.implicitly_wait(10)"
   ]
  },
  {
   "cell_type": "code",
   "execution_count": 95,
   "metadata": {},
   "outputs": [
    {
     "data": {
      "text/plain": [
       "9"
      ]
     },
     "execution_count": 95,
     "metadata": {},
     "output_type": "execute_result"
    }
   ],
   "source": [
    "\n",
    "df.shape[1]"
   ]
  },
  {
   "cell_type": "code",
   "execution_count": 116,
   "metadata": {},
   "outputs": [],
   "source": [
    "def extract_data():\n",
    "    driver.implicitly_wait(10)\n",
    "    table=driver.find_element(by=By.TAG_NAME, value=\"tbody\")\n",
    "    rows=table.find_elements(by=By.TAG_NAME,value=\"tr\")\n",
    "\n",
    "    i=df.shape[0]\n",
    "    for row in rows:\n",
    "        link = row.find_element(by=By.TAG_NAME,value=\"a\").get_attribute(\"href\")\n",
    "        name =      row.find_elements(by=By.TAG_NAME, value=\"td\")[0].text\n",
    "        town =      row.find_elements(by=By.TAG_NAME, value=\"td\")[1].text\n",
    "        state =     row.find_elements(by=By.TAG_NAME, value=\"td\")[2].text\n",
    "        status =    row.find_elements(by=By.TAG_NAME, value=\"td\")[3].text\n",
    "        size =      row.find_elements(by=By.TAG_NAME, value=\"td\")[4].text\n",
    "        abn =       row.find_elements(by=By.TAG_NAME, value=\"td\")[5].text\n",
    "        df.loc[i]=[link,name,town,state,status,size,abn,None,None,None]\n",
    "        i+=1\n",
    "    "
   ]
  },
  {
   "cell_type": "code",
   "execution_count": 121,
   "metadata": {},
   "outputs": [
    {
     "data": {
      "text/plain": [
       "<bound method NDFrame.head of Empty DataFrame\n",
       "Columns: [Index_Link, Legal_Name, Town/Suburb, State, Status, Size, ABN, Website, Revenue, Cause/s]\n",
       "Index: []>"
      ]
     },
     "execution_count": 121,
     "metadata": {},
     "output_type": "execute_result"
    }
   ],
   "source": [
    "df.head"
   ]
  },
  {
   "cell_type": "code",
   "execution_count": 126,
   "metadata": {},
   "outputs": [
    {
     "ename": "KeyboardInterrupt",
     "evalue": "",
     "output_type": "error",
     "traceback": [
      "\u001b[1;31m---------------------------------------------------------------------------\u001b[0m",
      "\u001b[1;31mKeyboardInterrupt\u001b[0m                         Traceback (most recent call last)",
      "\u001b[1;32mc:\\Users\\61457\\OneDrive\\Documents\\B&T Digital\\02. Operations\\01. Proposals\\Charity Proposals\\Scraper\\CharityScraper\\Summary_Notebook.ipynb Cell 8\u001b[0m in \u001b[0;36m<cell line: 13>\u001b[1;34m()\u001b[0m\n\u001b[0;32m     <a href='vscode-notebook-cell:/c%3A/Users/61457/OneDrive/Documents/B%26T%20Digital/02.%20Operations/01.%20Proposals/Charity%20Proposals/Scraper/CharityScraper/Summary_Notebook.ipynb#W6sZmlsZQ%3D%3D?line=10'>11</a>\u001b[0m driver\u001b[39m.\u001b[39mget(pfurl)\n\u001b[0;32m     <a href='vscode-notebook-cell:/c%3A/Users/61457/OneDrive/Documents/B%26T%20Digital/02.%20Operations/01.%20Proposals/Charity%20Proposals/Scraper/CharityScraper/Summary_Notebook.ipynb#W6sZmlsZQ%3D%3D?line=11'>12</a>\u001b[0m time\u001b[39m.\u001b[39msleep(\u001b[39m20\u001b[39m)\n\u001b[1;32m---> <a href='vscode-notebook-cell:/c%3A/Users/61457/OneDrive/Documents/B%26T%20Digital/02.%20Operations/01.%20Proposals/Charity%20Proposals/Scraper/CharityScraper/Summary_Notebook.ipynb#W6sZmlsZQ%3D%3D?line=12'>13</a>\u001b[0m nav_page()\n",
      "\u001b[1;32mc:\\Users\\61457\\OneDrive\\Documents\\B&T Digital\\02. Operations\\01. Proposals\\Charity Proposals\\Scraper\\CharityScraper\\Summary_Notebook.ipynb Cell 8\u001b[0m in \u001b[0;36mnav_page\u001b[1;34m()\u001b[0m\n\u001b[0;32m      <a href='vscode-notebook-cell:/c%3A/Users/61457/OneDrive/Documents/B%26T%20Digital/02.%20Operations/01.%20Proposals/Charity%20Proposals/Scraper/CharityScraper/Summary_Notebook.ipynb#W6sZmlsZQ%3D%3D?line=6'>7</a>\u001b[0m driver\u001b[39m.\u001b[39mfind_element(by\u001b[39m=\u001b[39mBy\u001b[39m.\u001b[39mCLASS_NAME,value\u001b[39m=\u001b[39m\u001b[39m\"\u001b[39m\u001b[39mnext\u001b[39m\u001b[39m\"\u001b[39m)\u001b[39m.\u001b[39mfind_element(by\u001b[39m=\u001b[39mBy\u001b[39m.\u001b[39mTAG_NAME,value\u001b[39m=\u001b[39m\u001b[39m\"\u001b[39m\u001b[39mbutton\u001b[39m\u001b[39m\"\u001b[39m)\u001b[39m.\u001b[39mclick()\n\u001b[0;32m      <a href='vscode-notebook-cell:/c%3A/Users/61457/OneDrive/Documents/B%26T%20Digital/02.%20Operations/01.%20Proposals/Charity%20Proposals/Scraper/CharityScraper/Summary_Notebook.ipynb#W6sZmlsZQ%3D%3D?line=7'>8</a>\u001b[0m page \u001b[39m+\u001b[39m\u001b[39m=\u001b[39m \u001b[39m1\u001b[39m\n\u001b[1;32m----> <a href='vscode-notebook-cell:/c%3A/Users/61457/OneDrive/Documents/B%26T%20Digital/02.%20Operations/01.%20Proposals/Charity%20Proposals/Scraper/CharityScraper/Summary_Notebook.ipynb#W6sZmlsZQ%3D%3D?line=8'>9</a>\u001b[0m time\u001b[39m.\u001b[39;49msleep(\u001b[39m20\u001b[39;49m)\n",
      "\u001b[1;31mKeyboardInterrupt\u001b[0m: "
     ]
    }
   ],
   "source": [
    "#navigate to next page building block\n",
    "def nav_page():\n",
    "    totalpages=353\n",
    "    page=1\n",
    "    while page < totalpages:\n",
    "        extract_data()\n",
    "        driver.find_element(by=By.CLASS_NAME,value=\"next\").find_element(by=By.TAG_NAME,value=\"button\").click()\n",
    "        page += 1\n",
    "        time.sleep(20)\n",
    "\n",
    "driver.get(pfurl)\n",
    "time.sleep(20)\n",
    "nav_page()\n",
    "\n",
    "df.to_csv(\"/list1.csv\")"
   ]
  },
  {
   "cell_type": "code",
   "execution_count": 12,
   "metadata": {},
   "outputs": [],
   "source": [
    "# kill driver\n",
    "driver.quit()"
   ]
  }
 ],
 "metadata": {
  "kernelspec": {
   "display_name": "Python 3.10.4 64-bit",
   "language": "python",
   "name": "python3"
  },
  "language_info": {
   "codemirror_mode": {
    "name": "ipython",
    "version": 3
   },
   "file_extension": ".py",
   "mimetype": "text/x-python",
   "name": "python",
   "nbconvert_exporter": "python",
   "pygments_lexer": "ipython3",
   "version": "3.10.4"
  },
  "orig_nbformat": 4,
  "vscode": {
   "interpreter": {
    "hash": "26de051ba29f2982a8de78e945f0abaf191376122a1563185a90213a26c5da77"
   }
  }
 },
 "nbformat": 4,
 "nbformat_minor": 2
}
