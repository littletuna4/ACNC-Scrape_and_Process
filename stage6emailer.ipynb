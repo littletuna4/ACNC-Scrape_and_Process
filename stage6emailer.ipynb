{
 "cells": [
  {
   "cell_type": "code",
   "execution_count": 8,
   "metadata": {},
   "outputs": [],
   "source": [
    "import win32com.client as win32\n",
    "import pandas as pd"
   ]
  },
  {
   "cell_type": "code",
   "execution_count": 9,
   "metadata": {},
   "outputs": [],
   "source": [
    "def send_email(HTML_CONTENT='<h1>This email has no content</h1>',\n",
    "               Recipient = 'seemsfishy04@gmail.com',\n",
    "               Subject = 'This email has no Subject',\n",
    "               CC = None\n",
    "               ):\n",
    "\n",
    "    outlook = win32.Dispatch(\"Outlook.Application\")\n",
    "\n",
    "    send_account = None\n",
    "    for account in outlook.Session.Accounts:\n",
    "        if account.DisplayName == 'adpcerqui@gmail.com':\n",
    "            send_account = account\n",
    "            break\n",
    "\n",
    "\n",
    "    email           = outlook.CreateItem(0)\n",
    "    email._oleobj_.Invoke(*(64209, 0, 8, 0, send_account))\n",
    "    email.To        = Recipient\n",
    "    email.CC        = CC \n",
    "    email.Subject   = Subject\n",
    "    email.HTMLBody  = HTML_CONTENT\n",
    "\n",
    "    email.Send()"
   ]
  },
  {
   "cell_type": "code",
   "execution_count": 10,
   "metadata": {},
   "outputs": [],
   "source": [
    "\n",
    "\n",
    "def write_email(Recip_name, Recipient_charity, FOC):\n",
    "    FOCETemplate = open('./FOCEmailtemplate.html').read()\n",
    "    STDTemplate  = open('./STDmailtemplate.html' ).read()\n",
    "\n",
    "    if FOC:\n",
    "        t = FOCETemplate\n",
    "    else:\n",
    "        t = STDTemplate\n",
    "\n",
    "    e = t.replace('[People]',Recip_name).replace('[Charity Name]',Recipient_charity)\n",
    "    return e\n"
   ]
  },
  {
   "cell_type": "code",
   "execution_count": 13,
   "metadata": {},
   "outputs": [
    {
     "name": "stdout",
     "output_type": "stream",
     "text": [
      "Index(['hyperlink', 'Name', 'email', 'service email', 'Names', 'Charge?',\n",
      "       'Target Email', 'Subject'],\n",
      "      dtype='object')\n"
     ]
    }
   ],
   "source": [
    "df = pd.read_excel('./FinalList.xlsx',index_col=0)\n",
    "print(df.columns)\n",
    "for i in df.index:\n",
    "    charname = df.loc[i,'Name']\n",
    "    emails   = df.loc[i,'Target Email']\n",
    "    subject  = df.loc[i,'Subject']\n",
    "    names    = df.loc[i,'Names']\n",
    "    if df.loc[i,'Charge?'] == 'FOC':\n",
    "        FOC = True\n",
    "    else:\n",
    "        FOC = False\n",
    "\n",
    "    email_body = write_email(names,charname,FOC=FOC)\n",
    "\n",
    "    send_email(HTML_CONTENT=email_body,Recipient=emails,Subject=subject, CC='b.israela@outlook.com')\n"
   ]
  }
 ],
 "metadata": {
  "kernelspec": {
   "display_name": "Python 3.10.4 64-bit",
   "language": "python",
   "name": "python3"
  },
  "language_info": {
   "codemirror_mode": {
    "name": "ipython",
    "version": 3
   },
   "file_extension": ".py",
   "mimetype": "text/x-python",
   "name": "python",
   "nbconvert_exporter": "python",
   "pygments_lexer": "ipython3",
   "version": "3.10.4"
  },
  "orig_nbformat": 4,
  "vscode": {
   "interpreter": {
    "hash": "26de051ba29f2982a8de78e945f0abaf191376122a1563185a90213a26c5da77"
   }
  }
 },
 "nbformat": 4,
 "nbformat_minor": 2
}
