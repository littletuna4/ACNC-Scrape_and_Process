{
 "cells": [
  {
   "cell_type": "code",
   "execution_count": 13,
   "metadata": {},
   "outputs": [],
   "source": [
    "# Initialisation and loadup\n",
    "from http import server\n",
    "import pandas as pd\n",
    "import numpy as np\n",
    "import copy\n",
    "import os\n",
    "import time\n",
    "import re\n",
    "p = '[\\d]+[.,\\d]+|[\\d]*[.][\\d]+|[\\d]+' #REparser\n",
    "\n",
    "import selenium as sl\n",
    "from selenium import webdriver\n",
    "\n",
    "from selenium.webdriver.chrome.service import Service\n",
    "from webdriver_manager.chrome import ChromeDriverManager\n",
    "driverpath=ChromeDriverManager().install()\n",
    "\n",
    "from selenium.webdriver.common.by import By\n",
    "from selenium.webdriver.support.ui import WebDriverWait \n",
    "from selenium.webdriver.support import expected_conditions as EC"
   ]
  },
  {
   "cell_type": "code",
   "execution_count": 14,
   "metadata": {},
   "outputs": [],
   "source": [
    "# initialise the pandas dataframe\n",
    "columns = [\"Index_Link\", \"Legal_Name\", \"Town/Suburb\",\"State\", \"Status\", \"Size\",\"ABN\",\"Website\",\"Revenue\",\"Expenses\",\"Cause/s\",\"Last_report_date\",\"ref_religion\"]\n",
    "\n",
    "#list off lowercase religous words\n",
    "religious_buzzwords = ['church','priest','christian','islam', 'muslim','religion','religious','evangelical']\n",
    "\n",
    "#extend religious word dictionary\n",
    "CapWords=[]\n",
    "CAPWORDS=[]\n",
    "for word in religious_buzzwords:\n",
    "    CapWords.append(word.capitalize())\n",
    "    CAPWORDS.append(word.upper())\n",
    "religious_buzzwords.extend(w for w in CapWords)\n",
    "religious_buzzwords.extend(w for w in CAPWORDS)\n",
    "\n",
    "def open_drivers(num_drivers=5):\n",
    "    drivers =[]\n",
    "    for i in range(num_drivers):\n",
    "        drivers.append(webdriver.Chrome(service=Service(driverpath)))\n",
    "    return drivers"
   ]
  },
  {
   "cell_type": "code",
   "execution_count": 85,
   "metadata": {},
   "outputs": [
    {
     "data": {
      "text/plain": [
       "['http://www.lifesourceechuca.com/',\n",
       " 91366.0,\n",
       " 58604.0,\n",
       " 'Aboriginal and Torres Strait Islander people; Adults - aged 25 to under 65; Children - aged 6 to under 15; Families; Females; Financially disadvantaged people; General community in Australia; Males; Migrants, refugees or asylum seekers; People at risk of homelessness/ people experiencing homelessness; People from a culturally and linguistically diverse background; People in rural/regional/remote communities; People with chronic illness (including terminal illness); People with disabilities',\n",
       " '16 Apr 2022',\n",
       " 1]"
      ]
     },
     "execution_count": 85,
     "metadata": {},
     "output_type": "execute_result"
    }
   ],
   "source": [
    "def extract_page_data(d):\n",
    "    try:\n",
    "        WebDriverWait(d,35).until(EC.presence_of_element_located((By.XPATH,\"//p[contains(text(),': $')]\")))\n",
    "        rev_and_expenses = d.find_elements(By.XPATH,\"//p[contains(text(),': $')]\")\n",
    "        revenue = float(re.findall(p, rev_and_expenses[0].text)[0].replace(\",\",\"\"))\n",
    "        expenses =float(re.findall(p, rev_and_expenses[1].text)[0].replace(\",\",\"\"))\n",
    "    except:\n",
    "        revenue = None\n",
    "        expenses = None\n",
    "        print('revecpenses failed')\n",
    "\n",
    "    \n",
    "    # last report date\n",
    "    try:\n",
    "        lastreport = d.find_elements(by=By.XPATH, value=\"//*[contains(text(),'Last reported:')]/..//dd\")[0].text\n",
    "    except:\n",
    "        lastreport = None\n",
    "        print(\"date failed\")\n",
    "\n",
    "    try:\n",
    "        causes = d.find_elements(by=By.XPATH, value=\"//*[contains(text(),'Who the charity helps:')]/..//dd\")[0].text.replace(\"\\n\",\"; \")\n",
    "    except:\n",
    "        causes = None\n",
    "        print('causes failed')\n",
    "\n",
    "    try:\n",
    "        website = d.find_element(by=By.XPATH, value=\"//*[contains(text(),'Website:')]/..//a\").get_attribute('href')\n",
    "    except:\n",
    "        website = None\n",
    "        print(\"no website/failed\")\n",
    "\n",
    "    religious_ref = 0\n",
    "    page_text = d.find_element(By.XPATH, '//*').text\n",
    "    for word in religious_buzzwords:\n",
    "        if word in page_text:\n",
    "            religious_ref+=1\n",
    "            break\n",
    "        else:\n",
    "            continue\n",
    "\n",
    "    \n",
    "    page_data = [website,revenue,expenses,causes,lastreport,religious_ref]\n",
    "    return page_data #in form [Website,Revenue,Expenses,Cause/s,Last_report_date,ref_religion]\n",
    "extract_page_data(testdriver)"
   ]
  },
  {
   "cell_type": "code",
   "execution_count": 89,
   "metadata": {},
   "outputs": [
    {
     "data": {
      "text/plain": [
       "array(['S1scrape_topage104.csv'], dtype='<U32')"
      ]
     },
     "execution_count": 89,
     "metadata": {},
     "output_type": "execute_result"
    }
   ],
   "source": [
    "np.load('./s2scrapedata/scrapedfileindex.npy')"
   ]
  },
  {
   "cell_type": "code",
   "execution_count": 16,
   "metadata": {},
   "outputs": [],
   "source": [
    "testdriver = open_drivers(1)[0]"
   ]
  },
  {
   "cell_type": "code",
   "execution_count": 84,
   "metadata": {},
   "outputs": [],
   "source": [
    "testdriver.get('https://www.acnc.gov.au/charity/charities/e61eb230-39af-e811-a963-000d3ad24077/profile') #religious"
   ]
  },
  {
   "cell_type": "code",
   "execution_count": 76,
   "metadata": {},
   "outputs": [],
   "source": [
    "testdriver.get('https://www.acnc.gov.au/charity/charities/3e6fb92a-39af-e811-a963-000d3ad24077/profile') #notreligious"
   ]
  },
  {
   "cell_type": "code",
   "execution_count": 52,
   "metadata": {},
   "outputs": [
    {
     "name": "stdout",
     "output_type": "stream",
     "text": [
      "no website/failed\n",
      "<selenium.webdriver.remote.webelement.WebElement (session=\"4cfad3849765bfd013b0a3c08fe33741\", element=\"9a031b62-f26d-4096-807f-0c5f9935652c\")>\n"
     ]
    },
    {
     "data": {
      "text/plain": [
       "[None,\n",
       " 91366.0,\n",
       " 58604.0,\n",
       " 'Aboriginal and Torres Strait Islander people; Adults - aged 25 to under 65; Children - aged 6 to under 15; Families; Females; Financially disadvantaged people; General community in Australia; Males; Migrants, refugees or asylum seekers; People at risk of homelessness/ people experiencing homelessness; People from a culturally and linguistically diverse background; People in rural/regional/remote communities; People with chronic illness (including terminal illness); People with disabilities',\n",
       " '16 Apr 2022',\n",
       " 1]"
      ]
     },
     "execution_count": 52,
     "metadata": {},
     "output_type": "execute_result"
    }
   ],
   "source": [
    "extract_page_data(testdriver)"
   ]
  }
 ],
 "metadata": {
  "kernelspec": {
   "display_name": "Python 3.10.4 64-bit",
   "language": "python",
   "name": "python3"
  },
  "language_info": {
   "codemirror_mode": {
    "name": "ipython",
    "version": 3
   },
   "file_extension": ".py",
   "mimetype": "text/x-python",
   "name": "python",
   "nbconvert_exporter": "python",
   "pygments_lexer": "ipython3",
   "version": "3.10.4"
  },
  "orig_nbformat": 4,
  "vscode": {
   "interpreter": {
    "hash": "26de051ba29f2982a8de78e945f0abaf191376122a1563185a90213a26c5da77"
   }
  }
 },
 "nbformat": 4,
 "nbformat_minor": 2
}
