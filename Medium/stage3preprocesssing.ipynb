{
 "cells": [
  {
   "cell_type": "code",
   "execution_count": 1,
   "metadata": {},
   "outputs": [],
   "source": [
    "import os\n",
    "import pandas as pd\n",
    "import numpy as np\n"
   ]
  },
  {
   "cell_type": "code",
   "execution_count": 2,
   "metadata": {},
   "outputs": [],
   "source": [
    "#get list of files to rescrape\n",
    "files = os.listdir(os.getcwd()+'/s2scrapedata')\n",
    "files = [i for i in files if '__.csv' in i]\n",
    "\n",
    "megadf = pd.DataFrame()\n",
    "\n",
    "for f in files:\n",
    "    tempdf = pd.read_csv('./s2scrapedata/'+f)\n",
    "    megadf  = pd.concat((megadf,tempdf))\n",
    "\n",
    "officialdf = pd.read_csv('../datadotgov_main.csv')\n",
    "officialdf['ABN'] = officialdf['ABN'].astype(str)\n",
    "\n",
    "\n"
   ]
  },
  {
   "cell_type": "code",
   "execution_count": 3,
   "metadata": {},
   "outputs": [],
   "source": [
    "#begin cleaning\n",
    "\n",
    "megadf.index = megadf['ABN']\n",
    "megadf = megadf.drop(['Website', 'Revenue', 'Expenses', 'Cause/s', 'Last_report_date', 'ref_religion','Unnamed: 0','ABN'], axis=1)\n",
    "\n"
   ]
  },
  {
   "cell_type": "code",
   "execution_count": 4,
   "metadata": {},
   "outputs": [],
   "source": [
    "#add in interesting official data (namely no responsible persons, reg date and establishment date)\n",
    "\n",
    "megadf = pd.merge(megadf,officialdf[[\"ABN\",'Number_of_Responsible_Persons','Registration_Date','Date_Organisation_Established']],on='ABN',how='left')\n",
    "megadf.to_csv('combined_scraped_list.csv')"
   ]
  },
  {
   "cell_type": "code",
   "execution_count": 5,
   "metadata": {},
   "outputs": [],
   "source": [
    "#develop search/filter lists\n",
    "\n",
    "# for free websites\n",
    "freedomainlist = [  'webnode',\n",
    "                    'wixsite',\n",
    "                    'weebly',\n",
    "                    'wordpress',\n",
    "                    'hubspot',\n",
    "                    'hs-sites',\n",
    "                    'godaddy',\n",
    "                    'site123',\n",
    "                    'mozello',\n",
    "                    'webstarts',\n",
    "                    'jimdofree',\n",
    "                    'ucraft',\n",
    "                    'webflow',\n",
    "                    'strinkingly',\n",
    "                    'blog']\n",
    "regexsearchstring = ''\n",
    "for d in freedomainlist:\n",
    "    regexsearchstring = (regexsearchstring+d+\"|\")[:-1]\n",
    "\n",
    "webfilter_freesites     = megadf['website'].str.contains(pat=regexsearchstring,regex=True,na=False)\n",
    "webfilter_free_orNone   = megadf['website'].str.contains(pat=regexsearchstring,regex=True,na=True)\n",
    "\n",
    "# for religious reference\n",
    "relfilter = megadf['religious_ref']==0\n",
    "\n",
    "# for upto date reporting\n",
    "recentreport_filter = megadf['lastreport'].str.contains('2021|2022',na=False)\n",
    "\n",
    "# for state\n",
    "statefilter = megadf['State']=='QLD'\n",
    "\n",
    "# greater than one responsible person filter\n",
    "teamsizefilter = megadf['Number_of_Responsible_Persons']>1\n",
    "\n",
    "# name doesn't contain \"trust\" or \"fund\"\n",
    "trustfundfilter  = ~megadf['Legal_Name'].str.contains('trust|fund|Trust|Fund|TRUST|FUND',regex=True,na=False)\n",
    "\n",
    "# name doesn't contain \"RSL\", \"Meals on Wheels\" or'lifesave'\n",
    "bigbusinessfilter  = ~megadf['Legal_Name'].str.contains('RSL|Returned And Services League|Returned Service League|Returned Services League|Rsl|Returned & Services League|Meals on Wheels|Meals On Wheels|Lifesave|Surf Life|Parents And Friends',regex=True,na=False)"
   ]
  },
  {
   "cell_type": "code",
   "execution_count": 6,
   "metadata": {},
   "outputs": [
    {
     "data": {
      "text/html": [
       "<div>\n",
       "<style scoped>\n",
       "    .dataframe tbody tr th:only-of-type {\n",
       "        vertical-align: middle;\n",
       "    }\n",
       "\n",
       "    .dataframe tbody tr th {\n",
       "        vertical-align: top;\n",
       "    }\n",
       "\n",
       "    .dataframe thead th {\n",
       "        text-align: right;\n",
       "    }\n",
       "</style>\n",
       "<table border=\"1\" class=\"dataframe\">\n",
       "  <thead>\n",
       "    <tr style=\"text-align: right;\">\n",
       "      <th></th>\n",
       "      <th>ABN</th>\n",
       "      <th>Index_Link</th>\n",
       "      <th>Legal_Name</th>\n",
       "      <th>Town/Suburb</th>\n",
       "      <th>State</th>\n",
       "      <th>Status</th>\n",
       "      <th>Size</th>\n",
       "      <th>website</th>\n",
       "      <th>revenue</th>\n",
       "      <th>expenses</th>\n",
       "      <th>causes</th>\n",
       "      <th>lastreport</th>\n",
       "      <th>religious_ref</th>\n",
       "      <th>Number_of_Responsible_Persons</th>\n",
       "      <th>Registration_Date</th>\n",
       "      <th>Date_Organisation_Established</th>\n",
       "    </tr>\n",
       "  </thead>\n",
       "  <tbody>\n",
       "  </tbody>\n",
       "</table>\n",
       "</div>"
      ],
      "text/plain": [
       "Empty DataFrame\n",
       "Columns: [ABN, Index_Link, Legal_Name, Town/Suburb, State, Status, Size, website, revenue, expenses, causes, lastreport, religious_ref, Number_of_Responsible_Persons, Registration_Date, Date_Organisation_Established]\n",
       "Index: []"
      ]
     },
     "execution_count": 6,
     "metadata": {},
     "output_type": "execute_result"
    }
   ],
   "source": [
    "\n",
    "\n",
    "filters = webfilter_free_orNone*relfilter*recentreport_filter*teamsizefilter*statefilter*trustfundfilter*bigbusinessfilter\n",
    "\n",
    "\n",
    "megadf[filters].sort_values(by=['revenue'], ascending=False).iloc[91:110]\n"
   ]
  }
 ],
 "metadata": {
  "kernelspec": {
   "display_name": "Python 3.10.4 64-bit",
   "language": "python",
   "name": "python3"
  },
  "language_info": {
   "codemirror_mode": {
    "name": "ipython",
    "version": 3
   },
   "file_extension": ".py",
   "mimetype": "text/x-python",
   "name": "python",
   "nbconvert_exporter": "python",
   "pygments_lexer": "ipython3",
   "version": "3.10.4"
  },
  "orig_nbformat": 4,
  "vscode": {
   "interpreter": {
    "hash": "26de051ba29f2982a8de78e945f0abaf191376122a1563185a90213a26c5da77"
   }
  }
 },
 "nbformat": 4,
 "nbformat_minor": 2
}
